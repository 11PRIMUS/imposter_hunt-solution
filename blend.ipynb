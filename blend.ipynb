{
 "cells": [
  {
   "cell_type": "code",
   "execution_count": 1,
   "id": "0b60e9bf",
   "metadata": {},
   "outputs": [],
   "source": [
    "import os\n",
    "import pandas as pd\n",
    "import numpy as np\n",
    "from sklearn.feature_extraction.text import TfidfVectorizer\n",
    "from sklearn.linear_model import LogisticRegression\n",
    "from sklearn.model_selection import StratifiedKFold\n"
   ]
  },
  {
   "cell_type": "code",
   "execution_count": 2,
   "id": "1c3834db",
   "metadata": {},
   "outputs": [
    {
     "name": "stdout",
     "output_type": "stream",
     "text": [
      "Train loaded (95, 4)\n"
     ]
    }
   ],
   "source": [
    "train_dir='data/train'\n",
    "train_csv='data/train.csv'\n",
    "\n",
    "labels = pd.read_csv(train_csv)\n",
    "examples= []\n",
    "for idx, row in labels.iterrows():\n",
    "    article_id = f\"article_{row['id']:04d}\"\n",
    "    article_path =os.path.join(train_dir, article_id)\n",
    "    file1_path =os.path.join(article_path,'file_1.txt')\n",
    "    file2_path =os.path.join(article_path,'file_2.txt')\n",
    "    with open(file1_path,'r', encoding='utf-8') as f1:\n",
    "        text1=f1.read()\n",
    "    with open(file2_path,'r', encoding='utf-8') as f2:\n",
    "        text2=f2.read()\n",
    "    examples.append({\n",
    "        'id': row['id'],\n",
    "        'text_1':text1,\n",
    "        'text_2': text2,\n",
    "        'real_text_id':row['real_text_id']\n",
    "    })\n",
    "train_df =pd.DataFrame(examples)\n",
    "print(\"Train loaded\", train_df.shape)"
   ]
  },
  {
   "cell_type": "code",
   "execution_count": 3,
   "id": "a00471de",
   "metadata": {},
   "outputs": [
    {
     "name": "stdout",
     "output_type": "stream",
     "text": [
      "Test loaded (1068, 3)\n"
     ]
    }
   ],
   "source": [
    "test_dir ='data/test'\n",
    "test_ids = sorted([fn for fn in os.listdir(test_dir) if fn.startswith(\"article_\")])\n",
    "test_examples = []\n",
    "for article_id in test_ids:\n",
    "    article_path = os.path.join(test_dir, article_id)\n",
    "    file1_path = os.path.join(article_path, 'file_1.txt')\n",
    "    file2_path = os.path.join(article_path, 'file_2.txt')\n",
    "    with open(file1_path, 'r',encoding='utf-8') as f1:\n",
    "        text1 = f1.read()\n",
    "    with open(file2_path, 'r',encoding='utf-8') as f2:\n",
    "        text2 = f2.read()\n",
    "    test_examples.append({\n",
    "        'id': int(article_id.split('_')[1]),\n",
    "        'text_1': text1,\n",
    "        'text_2': text2,\n",
    "    })\n",
    "test_df =pd.DataFrame(test_examples)\n",
    "print(\"Test loaded\", test_df.shape)"
   ]
  },
  {
   "cell_type": "code",
   "execution_count": 4,
   "id": "a94c2d78",
   "metadata": {},
   "outputs": [],
   "source": [
    "all_texts = train_df['text_1'].tolist() + train_df['text_2'].tolist() + test_df['text_1'].tolist() + test_df['text_2'].tolist()\n",
    "tfidf = TfidfVectorizer(max_features=20000, ngram_range=(1,3), stop_words='english')\n",
    "tfidf.fit(all_texts)\n",
    "\n",
    "def text_pair_feats(df):\n",
    "    v1 = tfidf.transform(df['text_1'])\n",
    "    v2 =tfidf.transform(df['text_2'])\n",
    "    diff = v1 -v2\n",
    "    concat = np.hstack([v1.toarray(), v2.toarray(), diff.toarray()])\n",
    "    return concat\n",
    "\n",
    "X = text_pair_feats(train_df)\n",
    "y = (train_df['real_text_id'] ==1).astype(int).values\n",
    "X_test = text_pair_feats(test_df)"
   ]
  },
  {
   "cell_type": "code",
   "execution_count": 5,
   "id": "cf49abe3",
   "metadata": {},
   "outputs": [
    {
     "name": "stdout",
     "output_type": "stream",
     "text": [
      "TFIDF+LR OOF CV: 0.8842\n"
     ]
    }
   ],
   "source": [
    "oof_lr=np.zeros(len(X))\n",
    "test_lr=np.zeros(len(X_test))\n",
    "\n",
    "skf = StratifiedKFold(n_splits=5, shuffle=True, random_state=42)\n",
    "for train_idx, val_idx in skf.split(X, y):\n",
    "    model =LogisticRegression(max_iter=500, C=2.0)\n",
    "    model.fit(X[train_idx], y[train_idx])\n",
    "    oof_lr[val_idx] = model.predict_proba(X[val_idx])[:, 1]\n",
    "    test_lr += model.predict_proba(X_test)[:, 1] / skf.n_splits\n",
    "\n",
    "print(f\"TFIDF+LR OOF CV: {np.mean((oof_lr > 0.5) == y):.4f}\")\n"
   ]
  },
  {
   "cell_type": "code",
   "execution_count": 6,
   "id": "8ded02e1",
   "metadata": {},
   "outputs": [],
   "source": [
    "from transformers import AutoTokenizer, AutoModelForSequenceClassification, Trainer, TrainingArguments\n",
    "import torch\n",
    "from torch.utils.data import Dataset"
   ]
  },
  {
   "cell_type": "code",
   "execution_count": 10,
   "id": "b5cd4db2",
   "metadata": {},
   "outputs": [
    {
     "data": {
      "application/vnd.jupyter.widget-view+json": {
       "model_id": "8b8b8818e6004f87964f2e6bdd530eaf",
       "version_major": 2,
       "version_minor": 0
      },
      "text/plain": [
       "tokenizer_config.json:   0%|          | 0.00/25.0 [00:00<?, ?B/s]"
      ]
     },
     "metadata": {},
     "output_type": "display_data"
    },
    {
     "data": {
      "application/vnd.jupyter.widget-view+json": {
       "model_id": "819437552b75465a8305594022e96842",
       "version_major": 2,
       "version_minor": 0
      },
      "text/plain": [
       "config.json:   0%|          | 0.00/481 [00:00<?, ?B/s]"
      ]
     },
     "metadata": {},
     "output_type": "display_data"
    },
    {
     "data": {
      "application/vnd.jupyter.widget-view+json": {
       "model_id": "b79f92d74fbd4f16bd257f517fd1219a",
       "version_major": 2,
       "version_minor": 0
      },
      "text/plain": [
       "vocab.json:   0%|          | 0.00/899k [00:00<?, ?B/s]"
      ]
     },
     "metadata": {},
     "output_type": "display_data"
    },
    {
     "data": {
      "application/vnd.jupyter.widget-view+json": {
       "model_id": "acddb8619a504e239c1c0d0e9f1a540c",
       "version_major": 2,
       "version_minor": 0
      },
      "text/plain": [
       "merges.txt:   0%|          | 0.00/456k [00:00<?, ?B/s]"
      ]
     },
     "metadata": {},
     "output_type": "display_data"
    },
    {
     "data": {
      "application/vnd.jupyter.widget-view+json": {
       "model_id": "d3bbb8cb755d4d029f11c753722ef110",
       "version_major": 2,
       "version_minor": 0
      },
      "text/plain": [
       "tokenizer.json:   0%|          | 0.00/1.36M [00:00<?, ?B/s]"
      ]
     },
     "metadata": {},
     "output_type": "display_data"
    },
    {
     "name": "stdout",
     "output_type": "stream",
     "text": [
      "Fold 1\n"
     ]
    },
    {
     "name": "stderr",
     "output_type": "stream",
     "text": [
      "Xet Storage is enabled for this repo, but the 'hf_xet' package is not installed. Falling back to regular HTTP download. For better performance, install the package with: `pip install huggingface_hub[hf_xet]` or `pip install hf_xet`\n"
     ]
    },
    {
     "data": {
      "application/vnd.jupyter.widget-view+json": {
       "model_id": "60e12bc54f144dd0b6b2aa5c36c8c2b3",
       "version_major": 2,
       "version_minor": 0
      },
      "text/plain": [
       "model.safetensors:   0%|          | 0.00/499M [00:00<?, ?B/s]"
      ]
     },
     "metadata": {},
     "output_type": "display_data"
    },
    {
     "name": "stderr",
     "output_type": "stream",
     "text": [
      "Some weights of RobertaForSequenceClassification were not initialized from the model checkpoint at roberta-base and are newly initialized: ['classifier.dense.bias', 'classifier.dense.weight', 'classifier.out_proj.bias', 'classifier.out_proj.weight']\n",
      "You should probably TRAIN this model on a down-stream task to be able to use it for predictions and inference.\n"
     ]
    },
    {
     "data": {
      "text/html": [
       "\n",
       "    <div>\n",
       "      \n",
       "      <progress value='114' max='114' style='width:300px; height:20px; vertical-align: middle;'></progress>\n",
       "      [114/114 00:21, Epoch 3/3]\n",
       "    </div>\n",
       "    <table border=\"1\" class=\"dataframe\">\n",
       "  <thead>\n",
       " <tr style=\"text-align: left;\">\n",
       "      <th>Step</th>\n",
       "      <th>Training Loss</th>\n",
       "    </tr>\n",
       "  </thead>\n",
       "  <tbody>\n",
       "  </tbody>\n",
       "</table><p>"
      ],
      "text/plain": [
       "<IPython.core.display.HTML object>"
      ]
     },
     "metadata": {},
     "output_type": "display_data"
    },
    {
     "data": {
      "text/html": [],
      "text/plain": [
       "<IPython.core.display.HTML object>"
      ]
     },
     "metadata": {},
     "output_type": "display_data"
    },
    {
     "data": {
      "text/html": [],
      "text/plain": [
       "<IPython.core.display.HTML object>"
      ]
     },
     "metadata": {},
     "output_type": "display_data"
    },
    {
     "name": "stdout",
     "output_type": "stream",
     "text": [
      "Fold 2\n"
     ]
    },
    {
     "name": "stderr",
     "output_type": "stream",
     "text": [
      "Some weights of RobertaForSequenceClassification were not initialized from the model checkpoint at roberta-base and are newly initialized: ['classifier.dense.bias', 'classifier.dense.weight', 'classifier.out_proj.bias', 'classifier.out_proj.weight']\n",
      "You should probably TRAIN this model on a down-stream task to be able to use it for predictions and inference.\n"
     ]
    },
    {
     "data": {
      "text/html": [
       "\n",
       "    <div>\n",
       "      \n",
       "      <progress value='114' max='114' style='width:300px; height:20px; vertical-align: middle;'></progress>\n",
       "      [114/114 00:20, Epoch 3/3]\n",
       "    </div>\n",
       "    <table border=\"1\" class=\"dataframe\">\n",
       "  <thead>\n",
       " <tr style=\"text-align: left;\">\n",
       "      <th>Step</th>\n",
       "      <th>Training Loss</th>\n",
       "    </tr>\n",
       "  </thead>\n",
       "  <tbody>\n",
       "  </tbody>\n",
       "</table><p>"
      ],
      "text/plain": [
       "<IPython.core.display.HTML object>"
      ]
     },
     "metadata": {},
     "output_type": "display_data"
    },
    {
     "data": {
      "text/html": [],
      "text/plain": [
       "<IPython.core.display.HTML object>"
      ]
     },
     "metadata": {},
     "output_type": "display_data"
    },
    {
     "data": {
      "text/html": [],
      "text/plain": [
       "<IPython.core.display.HTML object>"
      ]
     },
     "metadata": {},
     "output_type": "display_data"
    },
    {
     "name": "stdout",
     "output_type": "stream",
     "text": [
      "Fold 3\n"
     ]
    },
    {
     "name": "stderr",
     "output_type": "stream",
     "text": [
      "Some weights of RobertaForSequenceClassification were not initialized from the model checkpoint at roberta-base and are newly initialized: ['classifier.dense.bias', 'classifier.dense.weight', 'classifier.out_proj.bias', 'classifier.out_proj.weight']\n",
      "You should probably TRAIN this model on a down-stream task to be able to use it for predictions and inference.\n"
     ]
    },
    {
     "data": {
      "text/html": [
       "\n",
       "    <div>\n",
       "      \n",
       "      <progress value='114' max='114' style='width:300px; height:20px; vertical-align: middle;'></progress>\n",
       "      [114/114 00:20, Epoch 3/3]\n",
       "    </div>\n",
       "    <table border=\"1\" class=\"dataframe\">\n",
       "  <thead>\n",
       " <tr style=\"text-align: left;\">\n",
       "      <th>Step</th>\n",
       "      <th>Training Loss</th>\n",
       "    </tr>\n",
       "  </thead>\n",
       "  <tbody>\n",
       "  </tbody>\n",
       "</table><p>"
      ],
      "text/plain": [
       "<IPython.core.display.HTML object>"
      ]
     },
     "metadata": {},
     "output_type": "display_data"
    },
    {
     "data": {
      "text/html": [],
      "text/plain": [
       "<IPython.core.display.HTML object>"
      ]
     },
     "metadata": {},
     "output_type": "display_data"
    },
    {
     "data": {
      "text/html": [],
      "text/plain": [
       "<IPython.core.display.HTML object>"
      ]
     },
     "metadata": {},
     "output_type": "display_data"
    },
    {
     "name": "stdout",
     "output_type": "stream",
     "text": [
      "Fold 4\n"
     ]
    },
    {
     "name": "stderr",
     "output_type": "stream",
     "text": [
      "Some weights of RobertaForSequenceClassification were not initialized from the model checkpoint at roberta-base and are newly initialized: ['classifier.dense.bias', 'classifier.dense.weight', 'classifier.out_proj.bias', 'classifier.out_proj.weight']\n",
      "You should probably TRAIN this model on a down-stream task to be able to use it for predictions and inference.\n"
     ]
    },
    {
     "data": {
      "text/html": [
       "\n",
       "    <div>\n",
       "      \n",
       "      <progress value='114' max='114' style='width:300px; height:20px; vertical-align: middle;'></progress>\n",
       "      [114/114 00:20, Epoch 3/3]\n",
       "    </div>\n",
       "    <table border=\"1\" class=\"dataframe\">\n",
       "  <thead>\n",
       " <tr style=\"text-align: left;\">\n",
       "      <th>Step</th>\n",
       "      <th>Training Loss</th>\n",
       "    </tr>\n",
       "  </thead>\n",
       "  <tbody>\n",
       "  </tbody>\n",
       "</table><p>"
      ],
      "text/plain": [
       "<IPython.core.display.HTML object>"
      ]
     },
     "metadata": {},
     "output_type": "display_data"
    },
    {
     "data": {
      "text/html": [],
      "text/plain": [
       "<IPython.core.display.HTML object>"
      ]
     },
     "metadata": {},
     "output_type": "display_data"
    },
    {
     "data": {
      "text/html": [],
      "text/plain": [
       "<IPython.core.display.HTML object>"
      ]
     },
     "metadata": {},
     "output_type": "display_data"
    },
    {
     "name": "stdout",
     "output_type": "stream",
     "text": [
      "Fold 5\n"
     ]
    },
    {
     "name": "stderr",
     "output_type": "stream",
     "text": [
      "Some weights of RobertaForSequenceClassification were not initialized from the model checkpoint at roberta-base and are newly initialized: ['classifier.dense.bias', 'classifier.dense.weight', 'classifier.out_proj.bias', 'classifier.out_proj.weight']\n",
      "You should probably TRAIN this model on a down-stream task to be able to use it for predictions and inference.\n"
     ]
    },
    {
     "data": {
      "text/html": [
       "\n",
       "    <div>\n",
       "      \n",
       "      <progress value='114' max='114' style='width:300px; height:20px; vertical-align: middle;'></progress>\n",
       "      [114/114 00:20, Epoch 3/3]\n",
       "    </div>\n",
       "    <table border=\"1\" class=\"dataframe\">\n",
       "  <thead>\n",
       " <tr style=\"text-align: left;\">\n",
       "      <th>Step</th>\n",
       "      <th>Training Loss</th>\n",
       "    </tr>\n",
       "  </thead>\n",
       "  <tbody>\n",
       "  </tbody>\n",
       "</table><p>"
      ],
      "text/plain": [
       "<IPython.core.display.HTML object>"
      ]
     },
     "metadata": {},
     "output_type": "display_data"
    },
    {
     "data": {
      "text/html": [],
      "text/plain": [
       "<IPython.core.display.HTML object>"
      ]
     },
     "metadata": {},
     "output_type": "display_data"
    },
    {
     "data": {
      "text/html": [],
      "text/plain": [
       "<IPython.core.display.HTML object>"
      ]
     },
     "metadata": {},
     "output_type": "display_data"
    },
    {
     "name": "stdout",
     "output_type": "stream",
     "text": [
      "transformer oof cv: 0.5684\n"
     ]
    }
   ],
   "source": [
    "Model_Name=\"roberta-base\"\n",
    "tokenizer= AutoTokenizer.from_pretrained(Model_Name)\n",
    "\n",
    "class PairDataset(Dataset):\n",
    "    def __init__(self,df, tokenizer, is_test=False):\n",
    "        self.df= df.reset_index(drop=True)\n",
    "        self.tokenizer=tokenizer\n",
    "        self.is_test=is_test\n",
    "\n",
    "    def __len__(self):\n",
    "        return len(self.df)\n",
    "    def __getitem__(self, idx):\n",
    "        row=self.df.iloc[idx]\n",
    "        pair=self.tokenizer(row['text_1'], row['text_2'], truncation=True, \n",
    "                              padding='max_length', max_length=200, return_tensors='pt')\n",
    "        item ={k:v.squeeze() for k, v in pair.items()}\n",
    "        if not self.is_test:\n",
    "            label = 1 if row['real_text_id'] ==1 else 0\n",
    "            item['labels'] = torch.tensor(label)\n",
    "        return item\n",
    "\n",
    "N_SPLITS=5\n",
    "oof_tf=np.zeros(len(train_df))\n",
    "test_tf=np.zeros(len(test_df))\n",
    "\n",
    "for fold, (train_idx, val_idx) in enumerate(skf.split(train_df,y)):\n",
    "    print(f\"Fold {fold+1}\")\n",
    "    train_fold= train_df.iloc[train_idx].reset_index(drop=True)\n",
    "    val_fold=train_df.iloc[val_idx].reset_index(drop=True)\n",
    "    train_dataset=PairDataset(train_fold,tokenizer)\n",
    "    val_dataset=PairDataset(val_fold, tokenizer)\n",
    "    test_dataset=PairDataset(test_df, tokenizer,is_test=True)\n",
    "\n",
    "    model =AutoModelForSequenceClassification.from_pretrained(Model_Name, num_labels=2)\n",
    "    training_args=TrainingArguments(\n",
    "        output_dir=f'./results_{fold}',\n",
    "        num_train_epochs=3,\n",
    "        per_device_train_batch_size=2,\n",
    "        learning_rate=2e-5,\n",
    "        save_strategy='no',\n",
    "        fp16=torch.cuda.is_available(),\n",
    "    )\n",
    "    trainer =Trainer(\n",
    "        model=model,\n",
    "        args=training_args,\n",
    "        train_dataset=train_dataset,\n",
    "    )\n",
    "    trainer.train()\n",
    "    oof_logits=trainer.predict(val_dataset).predictions\n",
    "    oof_tf[val_idx] =torch.softmax(torch.tensor(oof_logits), dim=1).numpy()[:,1]\n",
    "\n",
    "    test_logits =trainer.predict(test_dataset).predictions\n",
    "    test_tf +=torch.softmax(torch.tensor(test_logits), dim=1).numpy()[:,1] / N_SPLITS\n",
    "\n",
    "print(f\"transformer oof cv: {np.mean((oof_tf>0.5)== y):.4f}\")"
   ]
  },
  {
   "cell_type": "code",
   "execution_count": null,
   "id": "01789c9c",
   "metadata": {},
   "outputs": [],
   "source": [
    "# this make our lr based model is good and we are gonna do submission "
   ]
  },
  {
   "cell_type": "code",
   "execution_count": null,
   "id": "bce412b0",
   "metadata": {},
   "outputs": [],
   "source": []
  },
  {
   "cell_type": "code",
   "execution_count": null,
   "id": "da6ee7fa",
   "metadata": {},
   "outputs": [],
   "source": []
  },
  {
   "cell_type": "code",
   "execution_count": null,
   "id": "2aa3703a",
   "metadata": {},
   "outputs": [],
   "source": []
  }
 ],
 "metadata": {
  "kernelspec": {
   "display_name": "Python 3",
   "language": "python",
   "name": "python3"
  },
  "language_info": {
   "codemirror_mode": {
    "name": "ipython",
    "version": 3
   },
   "file_extension": ".py",
   "mimetype": "text/x-python",
   "name": "python",
   "nbconvert_exporter": "python",
   "pygments_lexer": "ipython3",
   "version": "3.12.10"
  }
 },
 "nbformat": 4,
 "nbformat_minor": 5
}
