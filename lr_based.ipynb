{
 "cells": [
  {
   "cell_type": "code",
   "execution_count": 1,
   "id": "ba684358",
   "metadata": {},
   "outputs": [],
   "source": [
    "import os\n",
    "import pandas as pd\n",
    "from sklearn.feature_extraction.text import TfidfVectorizer\n",
    "from sklearn.linear_model import LogisticRegression\n",
    "from sklearn.model_selection import StratifiedKFold\n",
    "import numpy as np"
   ]
  },
  {
   "cell_type": "code",
   "execution_count": null,
   "id": "de8f790f",
   "metadata": {},
   "outputs": [
    {
     "name": "stdout",
     "output_type": "stream",
     "text": [
      "Train loaded (95, 4)\n"
     ]
    }
   ],
   "source": [
    "train_dir='data/train'\n",
    "train_csv='data/train.csv'\n",
    "\n",
    "labels = pd.read_csv(train_csv)\n",
    "examples= []\n",
    "for idx, row in labels.iterrows():\n",
    "    article_id = f\"article_{row['id']:04d}\"\n",
    "    article_path =os.path.join(train_dir, article_id)\n",
    "    file1_path =os.path.join(article_path,'file_1.txt')\n",
    "    file2_path =os.path.join(article_path,'file_2.txt')\n",
    "    with open(file1_path,'r', encoding='utf-8') as f1:\n",
    "        text1=f1.read()\n",
    "    with open(file2_path,'r', encoding='utf-8') as f2:\n",
    "        text2=f2.read()\n",
    "    examples.append({\n",
    "        'id': row['id'],\n",
    "        'text_1':text1,\n",
    "        'text_2': text2,\n",
    "        'real_text_id':row['real_text_id']\n",
    "    })\n",
    "train_df =pd.DataFrame(examples)\n",
    "print(\"Train loaded\", train_df.shape)"
   ]
  },
  {
   "cell_type": "code",
   "execution_count": null,
   "id": "20a81304",
   "metadata": {},
   "outputs": [
    {
     "name": "stdout",
     "output_type": "stream",
     "text": [
      "Test loaded (1068, 3)\n"
     ]
    }
   ],
   "source": [
    "test_dir ='data/test'\n",
    "test_ids = sorted([fn for fn in os.listdir(test_dir) if fn.startswith(\"article_\")])\n",
    "test_examples = []\n",
    "for article_id in test_ids:\n",
    "    article_path = os.path.join(test_dir, article_id)\n",
    "    file1_path = os.path.join(article_path, 'file_1.txt')\n",
    "    file2_path = os.path.join(article_path, 'file_2.txt')\n",
    "    with open(file1_path, 'r',encoding='utf-8') as f1:\n",
    "        text1 = f1.read()\n",
    "    with open(file2_path, 'r',encoding='utf-8') as f2:\n",
    "        text2 = f2.read()\n",
    "    test_examples.append({\n",
    "        'id': int(article_id.split('_')[1]),\n",
    "        'text_1': text1,\n",
    "        'text_2': text2,\n",
    "    })\n",
    "test_df =pd.DataFrame(test_examples)\n",
    "print(\"Test loaded\", test_df.shape)"
   ]
  },
  {
   "cell_type": "code",
   "execution_count": null,
   "id": "51e6e0fc",
   "metadata": {},
   "outputs": [],
   "source": [
    "all_texts =train_df['text_1'].tolist() + train_df['text_2'].tolist() + test_df['text_1'].tolist() + test_df['text_2'].tolist()\n",
    "tfidf = TfidfVectorizer(max_features=20000, ngram_range=(1,3), stop_words='english')\n",
    "tfidf.fit(all_texts)\n",
    "\n",
    "def text_pair_feats(df):\n",
    "    v1 = tfidf.transform(df['text_1'])\n",
    "    v2 = tfidf.transform(df['text_2'])\n",
    "    diff = v1 - v2\n",
    "    concat = np.hstack([v1.toarray(), v2.toarray(), diff.toarray()])\n",
    "    return concat\n",
    "\n",
    "X = text_pair_feats(train_df)\n",
    "y = (train_df['real_text_id'] == 1).astype(int).values   #1 if text_1 is real, else 0\n",
    "\n",
    "X_test = text_pair_feats(test_df)"
   ]
  },
  {
   "cell_type": "code",
   "execution_count": null,
   "id": "1ef3c2f9",
   "metadata": {},
   "outputs": [
    {
     "name": "stdout",
     "output_type": "stream",
     "text": [
      "Validation AUC OOF: 0.8842105263157894\n"
     ]
    }
   ],
   "source": [
    "#cross validated lr\n",
    "oof =np.zeros(len(X))\n",
    "preds = np.zeros(len(X_test))\n",
    "\n",
    "skf =StratifiedKFold(n_splits=5, shuffle=True, random_state=42)\n",
    "for train_idx, val_idx in skf.split(X, y):\n",
    "    model = LogisticRegression(max_iter=500, C=2.0)\n",
    "    model.fit(X[train_idx], y[train_idx])\n",
    "    oof[val_idx] = model.predict_proba(X[val_idx])[:, 1]\n",
    "    preds += model.predict_proba(X_test)[:, 1] / skf.n_splits\n",
    "\n",
    "print(\"Validation AUC OOF:\", np.mean((oof>0.5)==y))\n",
    "\n"
   ]
  },
  {
   "cell_type": "code",
   "execution_count": 7,
   "id": "482eda36",
   "metadata": {},
   "outputs": [
    {
     "data": {
      "text/html": [
       "<div>\n",
       "<style scoped>\n",
       "    .dataframe tbody tr th:only-of-type {\n",
       "        vertical-align: middle;\n",
       "    }\n",
       "\n",
       "    .dataframe tbody tr th {\n",
       "        vertical-align: top;\n",
       "    }\n",
       "\n",
       "    .dataframe thead th {\n",
       "        text-align: right;\n",
       "    }\n",
       "</style>\n",
       "<table border=\"1\" class=\"dataframe\">\n",
       "  <thead>\n",
       "    <tr style=\"text-align: right;\">\n",
       "      <th></th>\n",
       "      <th>id</th>\n",
       "      <th>real_text_id</th>\n",
       "    </tr>\n",
       "  </thead>\n",
       "  <tbody>\n",
       "    <tr>\n",
       "      <th>0</th>\n",
       "      <td>0</td>\n",
       "      <td>2</td>\n",
       "    </tr>\n",
       "    <tr>\n",
       "      <th>1</th>\n",
       "      <td>1</td>\n",
       "      <td>2</td>\n",
       "    </tr>\n",
       "    <tr>\n",
       "      <th>2</th>\n",
       "      <td>2</td>\n",
       "      <td>1</td>\n",
       "    </tr>\n",
       "    <tr>\n",
       "      <th>3</th>\n",
       "      <td>3</td>\n",
       "      <td>1</td>\n",
       "    </tr>\n",
       "    <tr>\n",
       "      <th>4</th>\n",
       "      <td>4</td>\n",
       "      <td>2</td>\n",
       "    </tr>\n",
       "  </tbody>\n",
       "</table>\n",
       "</div>"
      ],
      "text/plain": [
       "   id  real_text_id\n",
       "0   0             2\n",
       "1   1             2\n",
       "2   2             1\n",
       "3   3             1\n",
       "4   4             2"
      ]
     },
     "execution_count": 7,
     "metadata": {},
     "output_type": "execute_result"
    }
   ],
   "source": [
    "real_text_id_pred = [1 if p>0.5 else 2 for p in preds]\n",
    "submission = pd.DataFrame({'id': test_df['id'], 'real_text_id': real_text_id_pred})\n",
    "submission = submission.sort_values('id').reset_index(drop=True)\n",
    "submission.to_csv('s3.csv', index=False)\n",
    "submission.head()"
   ]
  },
  {
   "cell_type": "code",
   "execution_count": null,
   "id": "d415bc35",
   "metadata": {},
   "outputs": [],
   "source": []
  }
 ],
 "metadata": {
  "kernelspec": {
   "display_name": "Python 3",
   "language": "python",
   "name": "python3"
  },
  "language_info": {
   "codemirror_mode": {
    "name": "ipython",
    "version": 3
   },
   "file_extension": ".py",
   "mimetype": "text/x-python",
   "name": "python",
   "nbconvert_exporter": "python",
   "pygments_lexer": "ipython3",
   "version": "3.12.10"
  }
 },
 "nbformat": 4,
 "nbformat_minor": 5
}
